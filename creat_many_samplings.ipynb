{
 "cells": [
  {
   "cell_type": "code",
   "execution_count": 50,
   "metadata": {},
   "outputs": [],
   "source": [
    "# Creat many sampling (experimentes) to general a better estatistic \n",
    "# Packages\n",
    "import numpy as np\n",
    "\n",
    "from RBM.samplings import Samplings\n",
    "from RBM.optimizator.energy_optimizator import Optimizator"
   ]
  },
  {
   "cell_type": "code",
   "execution_count": 52,
   "metadata": {},
   "outputs": [],
   "source": [
    "# Here starts the main program with variable declarations\n",
    "\n",
    "# Number particle \n",
    "Number_particles = 1\n",
    "\n",
    "# Dimension\n",
    "Dimension = 1\n",
    "\n",
    "# Number hidden layer \n",
    "Number_hidden_layer = 1\n",
    "\n",
    "# Number Monte Carlos cycles\n",
    "Number_MC_cycles = 10**3\n",
    "\n",
    "# Learning rate \n",
    "learning_rate = 0.8\n",
    "\n",
    "# Maximum iterations \n",
    "Maximum_iterations = 100\n",
    "\n",
    "# Number samplings (The best option it is a power 2 if you would like to do the stadistic analysis with blocking)\n",
    "Number_samplings = 2**8\n",
    "\n",
    "# Interaction \n",
    "Interaction = False\n",
    "\n",
    "# Number core (take care how many core has your computer)\n",
    "Number_core = 8\n",
    "\n",
    "# Type algorithm\n",
    "#Algorithm = 'Metropolis'    \n",
    "Algorithm = 'MetropolisHastings'\n",
    "\n",
    "# Interaction\n",
    "Interaction = False\n",
    "\n",
    "# Instantce class Optimizator\n",
    "algorithm_1= Optimizator(Number_particles, Dimension, Number_hidden_layer, Interaction, Algorithm = Algorithm, Number_MC_cycles = Number_MC_cycles) \n",
    "\n",
    "# Find the optimal parameters\n",
    "Energies, Optimal_parameter_a, Optimal_parameter_b, Optimal_parameter_w, Iteration_number, Time_CPU = algorithm_1.gradient_descent(learning_rate, Maximum_iterations)\n",
    "\n",
    "# Optimal parameters\n",
    "Optimal_parameter_a_b_w = (Optimal_parameter_a,Optimal_parameter_b, Optimal_parameter_w)\n",
    "\n",
    "# Instantce class Samplings\n",
    "algorithms = Samplings(Number_particles,Dimension,Number_hidden_layer,Interaction,Algorithm= Algorithm,Number_MC_cycles= Number_MC_cycles)\n",
    "\n",
    "# Samplings \n",
    "samplings = algorithms.samplings(Optimal_parameter_a_b_w,Number_samplings,Number_core)\n",
    "\n",
    "Energies_sampling, Variances, Errors, Time_CPU = samplings"
   ]
  },
  {
   "cell_type": "code",
   "execution_count": 18,
   "metadata": {},
   "outputs": [
    {
     "name": "stdout",
     "output_type": "stream",
     "text": [
      "==========================0.115=====================\n",
      "Time consuming: 0.00019145 sec\n",
      "Original: \n",
      "Mean value     Variance   Error\n",
      "    0.500001     2.88255e-06      0.00169781\n",
      "After Blocking technique: \n",
      "Mean value     Variance   Error\n",
      "    0.500001     2.07728e-12     1.44128e-06\n",
      "===============================================\n",
      "Time consuming: 11.8402 sec\n",
      "Original: \n",
      "Mean value     Variance   Error\n",
      "    0.500001     1.04121e-05     0.000322678\n",
      "After Bootstrap technique: \n",
      "Mean value     Variance   Error\n",
      "    0.500001     1.04233e-06     1.02094e-06\n",
      "===============================================\n"
     ]
    }
   ],
   "source": [
    "# Statistic analysis with blocking\n",
    "from RBM.statistical_techniques.statistics import StatisticalTechniques\n",
    "\n",
    "# Using blocking \n",
    "blocking_techniques = StatisticalTechniques().blocking\n",
    "\n",
    "# Using bootstrap\n",
    "bootstrap_techniques = StatisticalTechniques().bootstrap\n",
    "\n",
    "print('==========================0.115=====================')\n",
    "blocking_techniques(Energies_sampling)\n",
    "print('===============================================')\n",
    "bootstrap_techniques(Energies,Number_resampling = 10**6)\n",
    "print('===============================================')\n",
    "   "
   ]
  }
 ],
 "metadata": {
  "kernelspec": {
   "display_name": "Python 3",
   "language": "python",
   "name": "python3"
  },
  "language_info": {
   "codemirror_mode": {
    "name": "ipython",
    "version": 3
   },
   "file_extension": ".py",
   "mimetype": "text/x-python",
   "name": "python",
   "nbconvert_exporter": "python",
   "pygments_lexer": "ipython3",
   "version": "3.10.12"
  }
 },
 "nbformat": 4,
 "nbformat_minor": 2
}
